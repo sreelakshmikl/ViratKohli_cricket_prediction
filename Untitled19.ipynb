{
  "nbformat": 4,
  "nbformat_minor": 0,
  "metadata": {
    "colab": {
      "provenance": [],
      "authorship_tag": "ABX9TyPmZnmVGixw7HH7qRPJ5uTW",
      "include_colab_link": true
    },
    "kernelspec": {
      "name": "python3",
      "display_name": "Python 3"
    },
    "language_info": {
      "name": "python"
    }
  },
  "cells": [
    {
      "cell_type": "markdown",
      "metadata": {
        "id": "view-in-github",
        "colab_type": "text"
      },
      "source": [
        "<a href=\"https://colab.research.google.com/github/sreelakshmikl/ViratKohli_cricket_prediction/blob/main/Untitled19.ipynb\" target=\"_parent\"><img src=\"https://colab.research.google.com/assets/colab-badge.svg\" alt=\"Open In Colab\"/></a>"
      ]
    },
    {
      "cell_type": "markdown",
      "source": [
        "# Downloading Dataset from Kaggle"
      ],
      "metadata": {
        "id": "d2yQNYI5CY68"
      }
    },
    {
      "cell_type": "code",
      "execution_count": 1,
      "metadata": {
        "colab": {
          "base_uri": "https://localhost:8080/"
        },
        "id": "6Vl4x0PY3nxS",
        "outputId": "3ed714ea-4ed7-42e2-d69e-2ad953cde1c9"
      },
      "outputs": [
        {
          "output_type": "stream",
          "name": "stdout",
          "text": [
            "Requirement already satisfied: kaggle in /usr/local/lib/python3.10/dist-packages (1.5.16)\n",
            "Requirement already satisfied: six>=1.10 in /usr/local/lib/python3.10/dist-packages (from kaggle) (1.16.0)\n",
            "Requirement already satisfied: certifi in /usr/local/lib/python3.10/dist-packages (from kaggle) (2023.7.22)\n",
            "Requirement already satisfied: python-dateutil in /usr/local/lib/python3.10/dist-packages (from kaggle) (2.8.2)\n",
            "Requirement already satisfied: requests in /usr/local/lib/python3.10/dist-packages (from kaggle) (2.31.0)\n",
            "Requirement already satisfied: tqdm in /usr/local/lib/python3.10/dist-packages (from kaggle) (4.66.1)\n",
            "Requirement already satisfied: python-slugify in /usr/local/lib/python3.10/dist-packages (from kaggle) (8.0.1)\n",
            "Requirement already satisfied: urllib3 in /usr/local/lib/python3.10/dist-packages (from kaggle) (2.0.4)\n",
            "Requirement already satisfied: bleach in /usr/local/lib/python3.10/dist-packages (from kaggle) (6.0.0)\n",
            "Requirement already satisfied: webencodings in /usr/local/lib/python3.10/dist-packages (from bleach->kaggle) (0.5.1)\n",
            "Requirement already satisfied: text-unidecode>=1.3 in /usr/local/lib/python3.10/dist-packages (from python-slugify->kaggle) (1.3)\n",
            "Requirement already satisfied: charset-normalizer<4,>=2 in /usr/local/lib/python3.10/dist-packages (from requests->kaggle) (3.2.0)\n",
            "Requirement already satisfied: idna<4,>=2.5 in /usr/local/lib/python3.10/dist-packages (from requests->kaggle) (3.4)\n"
          ]
        }
      ],
      "source": [
        "!pip install kaggle"
      ]
    },
    {
      "cell_type": "code",
      "source": [
        "!mkdir ~/.kaggle"
      ],
      "metadata": {
        "id": "xA5IQDra4ifQ"
      },
      "execution_count": 3,
      "outputs": []
    },
    {
      "cell_type": "code",
      "source": [
        "!cp kaggle.json ~/.kaggle/"
      ],
      "metadata": {
        "id": "f_S2Zs4n4xdC"
      },
      "execution_count": 4,
      "outputs": []
    },
    {
      "cell_type": "code",
      "source": [
        "!chmod 600 ~/.kaggle/kaggle.json"
      ],
      "metadata": {
        "id": "iBBB3QOP5BZJ"
      },
      "execution_count": 5,
      "outputs": []
    },
    {
      "cell_type": "code",
      "source": [
        "!kaggle datasets download -d drahulsingh/virat-kohli-all-international-cricket-centuries"
      ],
      "metadata": {
        "colab": {
          "base_uri": "https://localhost:8080/"
        },
        "id": "_XKvpOOA55al",
        "outputId": "85826e66-392d-4507-bd78-d8cde6d830ea"
      },
      "execution_count": 6,
      "outputs": [
        {
          "output_type": "stream",
          "name": "stdout",
          "text": [
            "Downloading virat-kohli-all-international-cricket-centuries.zip to /content\n",
            "\r  0% 0.00/2.10k [00:00<?, ?B/s]\n",
            "\r100% 2.10k/2.10k [00:00<00:00, 5.44MB/s]\n"
          ]
        }
      ]
    },
    {
      "cell_type": "code",
      "source": [
        "!unzip /content/virat-kohli-all-international-cricket-centuries.zip"
      ],
      "metadata": {
        "colab": {
          "base_uri": "https://localhost:8080/"
        },
        "id": "V2nXzeMw7CqJ",
        "outputId": "78ef46ad-eab9-46bd-98ed-ab084d914f80"
      },
      "execution_count": 9,
      "outputs": [
        {
          "output_type": "stream",
          "name": "stdout",
          "text": [
            "Archive:  /content/virat-kohli-all-international-cricket-centuries.zip\n",
            "  inflating: Virat-Kohli-International-Cricket-Centuries.csv  \n"
          ]
        }
      ]
    },
    {
      "cell_type": "markdown",
      "source": [
        "# Import Necessary packages and libraries"
      ],
      "metadata": {
        "id": "NybTgFyMCmyz"
      }
    },
    {
      "cell_type": "code",
      "source": [
        "import warnings\n",
        "warnings.filterwarnings('ignore')\n",
        "\n",
        "import pandas as pd\n",
        "import numpy as np\n",
        "import matplotlib.pyplot as plt\n",
        "\n",
        "from sklearn.preprocessing import LabelEncoder\n",
        "from sklearn.preprocessing import MinMaxScaler\n",
        "from sklearn.model_selection import train_test_split\n",
        "from sklearn.neighbors import KNeighborsClassifier\n",
        "from sklearn.naive_bayes import GaussianNB\n",
        "from sklearn.svm import SVC\n",
        "from sklearn.tree import DecisionTreeClassifier\n",
        "from sklearn.metrics import classification_report,ConfusionMatrixDisplay,accuracy_score"
      ],
      "metadata": {
        "id": "H7Jjk4B35-Ft"
      },
      "execution_count": 63,
      "outputs": []
    },
    {
      "cell_type": "markdown",
      "source": [
        "# Importing Dataset"
      ],
      "metadata": {
        "id": "OsOg0u9mDArG"
      }
    },
    {
      "cell_type": "code",
      "source": [
        "df=pd.read_csv('/content/Virat-Kohli-International-Cricket-Centuries.csv')\n",
        "df"
      ],
      "metadata": {
        "colab": {
          "base_uri": "https://localhost:8080/",
          "height": 423
        },
        "id": "BIZmVvQb7P_5",
        "outputId": "adea7263-ad4e-4fab-cd80-cc2b3130c5a1"
      },
      "execution_count": 64,
      "outputs": [
        {
          "output_type": "execute_result",
          "data": {
            "text/plain": [
              "    No.   Runs       Against  Position  Innings  \\\n",
              "0     1    107     Sri Lanka         4        2   \n",
              "1     2  102*     Bangladesh         3        2   \n",
              "2     3    118     Australia         3        2   \n",
              "3     4    105   New Zealand         3        1   \n",
              "4     5   100*    Bangladesh         4        1   \n",
              "..  ...    ...           ...       ...      ...   \n",
              "70   71   122*   Afghanistan         2        1   \n",
              "71   72    113    Bangladesh         3        1   \n",
              "72   73    113     Sri Lanka         3        1   \n",
              "73   74  166*      Sri Lanka         3        1   \n",
              "74   75    186     Australia         4        2   \n",
              "\n",
              "                                                Venue   Ground       Date  \\\n",
              "0                               Eden Gardens, Kolkata     Home  24-Dec-09   \n",
              "1                Sher-e-Bangla Cricket Stadium, Dhaka     Away  11-Jan-10   \n",
              "2                    APCA-VDCA Stadium, Visakhapatnam     Home  20-Oct-10   \n",
              "3                             Nehru Stadium, Guwahati     Home  28-Nov-10   \n",
              "4                Sher-e-Bangla Cricket Stadium, Dhaka     Away  19-Feb-11   \n",
              "..                                                ...      ...        ...   \n",
              "70         Dubai International Cricket Stadium, Dubai  Neutral  08-Sep-22   \n",
              "71          Zohur Ahmed Chowdhury Stadium, Chittagong     Away  10-Dec-22   \n",
              "72                              ACA Stadium, Guwahati     Home  10-Jan-23   \n",
              "73  Greenfield International Stadium, Thiruvananth...     Home  15-Jan-23   \n",
              "74                   Narendra Modi Stadium, Ahmedabad     Home  09-Mar-23   \n",
              "\n",
              "   Result  \n",
              "0     Won  \n",
              "1     Won  \n",
              "2     Won  \n",
              "3     Won  \n",
              "4     Won  \n",
              "..    ...  \n",
              "70    Won  \n",
              "71    Won  \n",
              "72    Won  \n",
              "73    Won  \n",
              "74  Drawn  \n",
              "\n",
              "[75 rows x 9 columns]"
            ],
            "text/html": [
              "\n",
              "  <div id=\"df-77aafe28-5367-49a1-901e-7a10b494c4a0\" class=\"colab-df-container\">\n",
              "    <div>\n",
              "<style scoped>\n",
              "    .dataframe tbody tr th:only-of-type {\n",
              "        vertical-align: middle;\n",
              "    }\n",
              "\n",
              "    .dataframe tbody tr th {\n",
              "        vertical-align: top;\n",
              "    }\n",
              "\n",
              "    .dataframe thead th {\n",
              "        text-align: right;\n",
              "    }\n",
              "</style>\n",
              "<table border=\"1\" class=\"dataframe\">\n",
              "  <thead>\n",
              "    <tr style=\"text-align: right;\">\n",
              "      <th></th>\n",
              "      <th>No.</th>\n",
              "      <th>Runs</th>\n",
              "      <th>Against</th>\n",
              "      <th>Position</th>\n",
              "      <th>Innings</th>\n",
              "      <th>Venue</th>\n",
              "      <th>Ground</th>\n",
              "      <th>Date</th>\n",
              "      <th>Result</th>\n",
              "    </tr>\n",
              "  </thead>\n",
              "  <tbody>\n",
              "    <tr>\n",
              "      <th>0</th>\n",
              "      <td>1</td>\n",
              "      <td>107</td>\n",
              "      <td>Sri Lanka</td>\n",
              "      <td>4</td>\n",
              "      <td>2</td>\n",
              "      <td>Eden Gardens, Kolkata</td>\n",
              "      <td>Home</td>\n",
              "      <td>24-Dec-09</td>\n",
              "      <td>Won</td>\n",
              "    </tr>\n",
              "    <tr>\n",
              "      <th>1</th>\n",
              "      <td>2</td>\n",
              "      <td>102*</td>\n",
              "      <td>Bangladesh</td>\n",
              "      <td>3</td>\n",
              "      <td>2</td>\n",
              "      <td>Sher-e-Bangla Cricket Stadium, Dhaka</td>\n",
              "      <td>Away</td>\n",
              "      <td>11-Jan-10</td>\n",
              "      <td>Won</td>\n",
              "    </tr>\n",
              "    <tr>\n",
              "      <th>2</th>\n",
              "      <td>3</td>\n",
              "      <td>118</td>\n",
              "      <td>Australia</td>\n",
              "      <td>3</td>\n",
              "      <td>2</td>\n",
              "      <td>APCA-VDCA Stadium, Visakhapatnam</td>\n",
              "      <td>Home</td>\n",
              "      <td>20-Oct-10</td>\n",
              "      <td>Won</td>\n",
              "    </tr>\n",
              "    <tr>\n",
              "      <th>3</th>\n",
              "      <td>4</td>\n",
              "      <td>105</td>\n",
              "      <td>New Zealand</td>\n",
              "      <td>3</td>\n",
              "      <td>1</td>\n",
              "      <td>Nehru Stadium, Guwahati</td>\n",
              "      <td>Home</td>\n",
              "      <td>28-Nov-10</td>\n",
              "      <td>Won</td>\n",
              "    </tr>\n",
              "    <tr>\n",
              "      <th>4</th>\n",
              "      <td>5</td>\n",
              "      <td>100*</td>\n",
              "      <td>Bangladesh</td>\n",
              "      <td>4</td>\n",
              "      <td>1</td>\n",
              "      <td>Sher-e-Bangla Cricket Stadium, Dhaka</td>\n",
              "      <td>Away</td>\n",
              "      <td>19-Feb-11</td>\n",
              "      <td>Won</td>\n",
              "    </tr>\n",
              "    <tr>\n",
              "      <th>...</th>\n",
              "      <td>...</td>\n",
              "      <td>...</td>\n",
              "      <td>...</td>\n",
              "      <td>...</td>\n",
              "      <td>...</td>\n",
              "      <td>...</td>\n",
              "      <td>...</td>\n",
              "      <td>...</td>\n",
              "      <td>...</td>\n",
              "    </tr>\n",
              "    <tr>\n",
              "      <th>70</th>\n",
              "      <td>71</td>\n",
              "      <td>122*</td>\n",
              "      <td>Afghanistan</td>\n",
              "      <td>2</td>\n",
              "      <td>1</td>\n",
              "      <td>Dubai International Cricket Stadium, Dubai</td>\n",
              "      <td>Neutral</td>\n",
              "      <td>08-Sep-22</td>\n",
              "      <td>Won</td>\n",
              "    </tr>\n",
              "    <tr>\n",
              "      <th>71</th>\n",
              "      <td>72</td>\n",
              "      <td>113</td>\n",
              "      <td>Bangladesh</td>\n",
              "      <td>3</td>\n",
              "      <td>1</td>\n",
              "      <td>Zohur Ahmed Chowdhury Stadium, Chittagong</td>\n",
              "      <td>Away</td>\n",
              "      <td>10-Dec-22</td>\n",
              "      <td>Won</td>\n",
              "    </tr>\n",
              "    <tr>\n",
              "      <th>72</th>\n",
              "      <td>73</td>\n",
              "      <td>113</td>\n",
              "      <td>Sri Lanka</td>\n",
              "      <td>3</td>\n",
              "      <td>1</td>\n",
              "      <td>ACA Stadium, Guwahati</td>\n",
              "      <td>Home</td>\n",
              "      <td>10-Jan-23</td>\n",
              "      <td>Won</td>\n",
              "    </tr>\n",
              "    <tr>\n",
              "      <th>73</th>\n",
              "      <td>74</td>\n",
              "      <td>166*</td>\n",
              "      <td>Sri Lanka</td>\n",
              "      <td>3</td>\n",
              "      <td>1</td>\n",
              "      <td>Greenfield International Stadium, Thiruvananth...</td>\n",
              "      <td>Home</td>\n",
              "      <td>15-Jan-23</td>\n",
              "      <td>Won</td>\n",
              "    </tr>\n",
              "    <tr>\n",
              "      <th>74</th>\n",
              "      <td>75</td>\n",
              "      <td>186</td>\n",
              "      <td>Australia</td>\n",
              "      <td>4</td>\n",
              "      <td>2</td>\n",
              "      <td>Narendra Modi Stadium, Ahmedabad</td>\n",
              "      <td>Home</td>\n",
              "      <td>09-Mar-23</td>\n",
              "      <td>Drawn</td>\n",
              "    </tr>\n",
              "  </tbody>\n",
              "</table>\n",
              "<p>75 rows × 9 columns</p>\n",
              "</div>\n",
              "    <div class=\"colab-df-buttons\">\n",
              "\n",
              "  <div class=\"colab-df-container\">\n",
              "    <button class=\"colab-df-convert\" onclick=\"convertToInteractive('df-77aafe28-5367-49a1-901e-7a10b494c4a0')\"\n",
              "            title=\"Convert this dataframe to an interactive table.\"\n",
              "            style=\"display:none;\">\n",
              "\n",
              "  <svg xmlns=\"http://www.w3.org/2000/svg\" height=\"24px\" viewBox=\"0 -960 960 960\">\n",
              "    <path d=\"M120-120v-720h720v720H120Zm60-500h600v-160H180v160Zm220 220h160v-160H400v160Zm0 220h160v-160H400v160ZM180-400h160v-160H180v160Zm440 0h160v-160H620v160ZM180-180h160v-160H180v160Zm440 0h160v-160H620v160Z\"/>\n",
              "  </svg>\n",
              "    </button>\n",
              "\n",
              "  <style>\n",
              "    .colab-df-container {\n",
              "      display:flex;\n",
              "      gap: 12px;\n",
              "    }\n",
              "\n",
              "    .colab-df-convert {\n",
              "      background-color: #E8F0FE;\n",
              "      border: none;\n",
              "      border-radius: 50%;\n",
              "      cursor: pointer;\n",
              "      display: none;\n",
              "      fill: #1967D2;\n",
              "      height: 32px;\n",
              "      padding: 0 0 0 0;\n",
              "      width: 32px;\n",
              "    }\n",
              "\n",
              "    .colab-df-convert:hover {\n",
              "      background-color: #E2EBFA;\n",
              "      box-shadow: 0px 1px 2px rgba(60, 64, 67, 0.3), 0px 1px 3px 1px rgba(60, 64, 67, 0.15);\n",
              "      fill: #174EA6;\n",
              "    }\n",
              "\n",
              "    .colab-df-buttons div {\n",
              "      margin-bottom: 4px;\n",
              "    }\n",
              "\n",
              "    [theme=dark] .colab-df-convert {\n",
              "      background-color: #3B4455;\n",
              "      fill: #D2E3FC;\n",
              "    }\n",
              "\n",
              "    [theme=dark] .colab-df-convert:hover {\n",
              "      background-color: #434B5C;\n",
              "      box-shadow: 0px 1px 3px 1px rgba(0, 0, 0, 0.15);\n",
              "      filter: drop-shadow(0px 1px 2px rgba(0, 0, 0, 0.3));\n",
              "      fill: #FFFFFF;\n",
              "    }\n",
              "  </style>\n",
              "\n",
              "    <script>\n",
              "      const buttonEl =\n",
              "        document.querySelector('#df-77aafe28-5367-49a1-901e-7a10b494c4a0 button.colab-df-convert');\n",
              "      buttonEl.style.display =\n",
              "        google.colab.kernel.accessAllowed ? 'block' : 'none';\n",
              "\n",
              "      async function convertToInteractive(key) {\n",
              "        const element = document.querySelector('#df-77aafe28-5367-49a1-901e-7a10b494c4a0');\n",
              "        const dataTable =\n",
              "          await google.colab.kernel.invokeFunction('convertToInteractive',\n",
              "                                                    [key], {});\n",
              "        if (!dataTable) return;\n",
              "\n",
              "        const docLinkHtml = 'Like what you see? Visit the ' +\n",
              "          '<a target=\"_blank\" href=https://colab.research.google.com/notebooks/data_table.ipynb>data table notebook</a>'\n",
              "          + ' to learn more about interactive tables.';\n",
              "        element.innerHTML = '';\n",
              "        dataTable['output_type'] = 'display_data';\n",
              "        await google.colab.output.renderOutput(dataTable, element);\n",
              "        const docLink = document.createElement('div');\n",
              "        docLink.innerHTML = docLinkHtml;\n",
              "        element.appendChild(docLink);\n",
              "      }\n",
              "    </script>\n",
              "  </div>\n",
              "\n",
              "\n",
              "<div id=\"df-5f5999cb-7e3e-4bb1-b1e4-b6ee6997cb0e\">\n",
              "  <button class=\"colab-df-quickchart\" onclick=\"quickchart('df-5f5999cb-7e3e-4bb1-b1e4-b6ee6997cb0e')\"\n",
              "            title=\"Suggest charts.\"\n",
              "            style=\"display:none;\">\n",
              "\n",
              "<svg xmlns=\"http://www.w3.org/2000/svg\" height=\"24px\"viewBox=\"0 0 24 24\"\n",
              "     width=\"24px\">\n",
              "    <g>\n",
              "        <path d=\"M19 3H5c-1.1 0-2 .9-2 2v14c0 1.1.9 2 2 2h14c1.1 0 2-.9 2-2V5c0-1.1-.9-2-2-2zM9 17H7v-7h2v7zm4 0h-2V7h2v10zm4 0h-2v-4h2v4z\"/>\n",
              "    </g>\n",
              "</svg>\n",
              "  </button>\n",
              "\n",
              "<style>\n",
              "  .colab-df-quickchart {\n",
              "    background-color: #E8F0FE;\n",
              "    border: none;\n",
              "    border-radius: 50%;\n",
              "    cursor: pointer;\n",
              "    display: none;\n",
              "    fill: #1967D2;\n",
              "    height: 32px;\n",
              "    padding: 0 0 0 0;\n",
              "    width: 32px;\n",
              "  }\n",
              "\n",
              "  .colab-df-quickchart:hover {\n",
              "    background-color: #E2EBFA;\n",
              "    box-shadow: 0px 1px 2px rgba(60, 64, 67, 0.3), 0px 1px 3px 1px rgba(60, 64, 67, 0.15);\n",
              "    fill: #174EA6;\n",
              "  }\n",
              "\n",
              "  [theme=dark] .colab-df-quickchart {\n",
              "    background-color: #3B4455;\n",
              "    fill: #D2E3FC;\n",
              "  }\n",
              "\n",
              "  [theme=dark] .colab-df-quickchart:hover {\n",
              "    background-color: #434B5C;\n",
              "    box-shadow: 0px 1px 3px 1px rgba(0, 0, 0, 0.15);\n",
              "    filter: drop-shadow(0px 1px 2px rgba(0, 0, 0, 0.3));\n",
              "    fill: #FFFFFF;\n",
              "  }\n",
              "</style>\n",
              "\n",
              "  <script>\n",
              "    async function quickchart(key) {\n",
              "      const charts = await google.colab.kernel.invokeFunction(\n",
              "          'suggestCharts', [key], {});\n",
              "    }\n",
              "    (() => {\n",
              "      let quickchartButtonEl =\n",
              "        document.querySelector('#df-5f5999cb-7e3e-4bb1-b1e4-b6ee6997cb0e button');\n",
              "      quickchartButtonEl.style.display =\n",
              "        google.colab.kernel.accessAllowed ? 'block' : 'none';\n",
              "    })();\n",
              "  </script>\n",
              "</div>\n",
              "    </div>\n",
              "  </div>\n"
            ]
          },
          "metadata": {},
          "execution_count": 64
        }
      ]
    },
    {
      "cell_type": "code",
      "source": [
        "df.info()"
      ],
      "metadata": {
        "colab": {
          "base_uri": "https://localhost:8080/"
        },
        "id": "qFqaCAqd7pKc",
        "outputId": "060cc438-abf2-4ce8-dce7-0bc28f2744ea"
      },
      "execution_count": 65,
      "outputs": [
        {
          "output_type": "stream",
          "name": "stdout",
          "text": [
            "<class 'pandas.core.frame.DataFrame'>\n",
            "RangeIndex: 75 entries, 0 to 74\n",
            "Data columns (total 9 columns):\n",
            " #   Column    Non-Null Count  Dtype \n",
            "---  ------    --------------  ----- \n",
            " 0   No.       75 non-null     int64 \n",
            " 1   Runs      75 non-null     object\n",
            " 2   Against   75 non-null     object\n",
            " 3   Position  75 non-null     int64 \n",
            " 4   Innings   75 non-null     int64 \n",
            " 5   Venue     75 non-null     object\n",
            " 6   Ground    75 non-null     object\n",
            " 7   Date      75 non-null     object\n",
            " 8   Result    75 non-null     object\n",
            "dtypes: int64(3), object(6)\n",
            "memory usage: 5.4+ KB\n"
          ]
        }
      ]
    },
    {
      "cell_type": "code",
      "source": [
        "df.isna().sum()"
      ],
      "metadata": {
        "colab": {
          "base_uri": "https://localhost:8080/"
        },
        "id": "-XhXgGad7xxP",
        "outputId": "a7c3788c-2df3-4109-8e08-2265f905a7bc"
      },
      "execution_count": 66,
      "outputs": [
        {
          "output_type": "execute_result",
          "data": {
            "text/plain": [
              "No.         0\n",
              "Runs        0\n",
              "Against     0\n",
              "Position    0\n",
              "Innings     0\n",
              "Venue       0\n",
              "Ground      0\n",
              "Date        0\n",
              "Result      0\n",
              "dtype: int64"
            ]
          },
          "metadata": {},
          "execution_count": 66
        }
      ]
    },
    {
      "cell_type": "code",
      "source": [
        "le=LabelEncoder()\n",
        "\n",
        "df['Runs']=le.fit_transform(df['Runs'])\n",
        "df['Against']=le.fit_transform(df['Against'])\n",
        "df['Venue']=le.fit_transform(df['Venue'])\n",
        "df['Ground']=le.fit_transform(df['Ground'])\n",
        "df['Date']=le.fit_transform(df['Date'])\n",
        "df['Result']=le.fit_transform(df['Result'])"
      ],
      "metadata": {
        "id": "8MvRwrMu8dEA"
      },
      "execution_count": 67,
      "outputs": []
    },
    {
      "cell_type": "code",
      "source": [
        "df.info()"
      ],
      "metadata": {
        "colab": {
          "base_uri": "https://localhost:8080/"
        },
        "id": "6YD2T-m3-Etu",
        "outputId": "16d2b6e7-6416-4ce8-ade8-77c953481303"
      },
      "execution_count": 68,
      "outputs": [
        {
          "output_type": "stream",
          "name": "stdout",
          "text": [
            "<class 'pandas.core.frame.DataFrame'>\n",
            "RangeIndex: 75 entries, 0 to 74\n",
            "Data columns (total 9 columns):\n",
            " #   Column    Non-Null Count  Dtype\n",
            "---  ------    --------------  -----\n",
            " 0   No.       75 non-null     int64\n",
            " 1   Runs      75 non-null     int64\n",
            " 2   Against   75 non-null     int64\n",
            " 3   Position  75 non-null     int64\n",
            " 4   Innings   75 non-null     int64\n",
            " 5   Venue     75 non-null     int64\n",
            " 6   Ground    75 non-null     int64\n",
            " 7   Date      75 non-null     int64\n",
            " 8   Result    75 non-null     int64\n",
            "dtypes: int64(9)\n",
            "memory usage: 5.4 KB\n"
          ]
        }
      ]
    },
    {
      "cell_type": "code",
      "source": [
        "X=df.iloc[:,1:-1]\n",
        "X"
      ],
      "metadata": {
        "colab": {
          "base_uri": "https://localhost:8080/",
          "height": 423
        },
        "id": "v0fgqtsg70JL",
        "outputId": "02e42b2a-9e0e-4cf1-8ade-5f371ff5b3f8"
      },
      "execution_count": 69,
      "outputs": [
        {
          "output_type": "execute_result",
          "data": {
            "text/plain": [
              "    Runs  Against  Position  Innings  Venue  Ground  Date\n",
              "0     10        7         4        2      7       1    58\n",
              "1      2        2         3        2     37       0    22\n",
              "2     22        1         3        2      2       1    49\n",
              "3      7        4         3        1     27       1    68\n",
              "4      0        2         4        1     37       0    46\n",
              "..   ...      ...       ...      ...    ...     ...   ...\n",
              "70    27        0         2        1      6       2    14\n",
              "71    16        2         3        1     47       0    18\n",
              "72    16        7         3        1      0       1    19\n",
              "73    46        7         3        1     12       1    33\n",
              "74    50        1         4        2     26       1    17\n",
              "\n",
              "[75 rows x 7 columns]"
            ],
            "text/html": [
              "\n",
              "  <div id=\"df-e4bcfa49-496f-45a1-a76d-6f42aee9b0b8\" class=\"colab-df-container\">\n",
              "    <div>\n",
              "<style scoped>\n",
              "    .dataframe tbody tr th:only-of-type {\n",
              "        vertical-align: middle;\n",
              "    }\n",
              "\n",
              "    .dataframe tbody tr th {\n",
              "        vertical-align: top;\n",
              "    }\n",
              "\n",
              "    .dataframe thead th {\n",
              "        text-align: right;\n",
              "    }\n",
              "</style>\n",
              "<table border=\"1\" class=\"dataframe\">\n",
              "  <thead>\n",
              "    <tr style=\"text-align: right;\">\n",
              "      <th></th>\n",
              "      <th>Runs</th>\n",
              "      <th>Against</th>\n",
              "      <th>Position</th>\n",
              "      <th>Innings</th>\n",
              "      <th>Venue</th>\n",
              "      <th>Ground</th>\n",
              "      <th>Date</th>\n",
              "    </tr>\n",
              "  </thead>\n",
              "  <tbody>\n",
              "    <tr>\n",
              "      <th>0</th>\n",
              "      <td>10</td>\n",
              "      <td>7</td>\n",
              "      <td>4</td>\n",
              "      <td>2</td>\n",
              "      <td>7</td>\n",
              "      <td>1</td>\n",
              "      <td>58</td>\n",
              "    </tr>\n",
              "    <tr>\n",
              "      <th>1</th>\n",
              "      <td>2</td>\n",
              "      <td>2</td>\n",
              "      <td>3</td>\n",
              "      <td>2</td>\n",
              "      <td>37</td>\n",
              "      <td>0</td>\n",
              "      <td>22</td>\n",
              "    </tr>\n",
              "    <tr>\n",
              "      <th>2</th>\n",
              "      <td>22</td>\n",
              "      <td>1</td>\n",
              "      <td>3</td>\n",
              "      <td>2</td>\n",
              "      <td>2</td>\n",
              "      <td>1</td>\n",
              "      <td>49</td>\n",
              "    </tr>\n",
              "    <tr>\n",
              "      <th>3</th>\n",
              "      <td>7</td>\n",
              "      <td>4</td>\n",
              "      <td>3</td>\n",
              "      <td>1</td>\n",
              "      <td>27</td>\n",
              "      <td>1</td>\n",
              "      <td>68</td>\n",
              "    </tr>\n",
              "    <tr>\n",
              "      <th>4</th>\n",
              "      <td>0</td>\n",
              "      <td>2</td>\n",
              "      <td>4</td>\n",
              "      <td>1</td>\n",
              "      <td>37</td>\n",
              "      <td>0</td>\n",
              "      <td>46</td>\n",
              "    </tr>\n",
              "    <tr>\n",
              "      <th>...</th>\n",
              "      <td>...</td>\n",
              "      <td>...</td>\n",
              "      <td>...</td>\n",
              "      <td>...</td>\n",
              "      <td>...</td>\n",
              "      <td>...</td>\n",
              "      <td>...</td>\n",
              "    </tr>\n",
              "    <tr>\n",
              "      <th>70</th>\n",
              "      <td>27</td>\n",
              "      <td>0</td>\n",
              "      <td>2</td>\n",
              "      <td>1</td>\n",
              "      <td>6</td>\n",
              "      <td>2</td>\n",
              "      <td>14</td>\n",
              "    </tr>\n",
              "    <tr>\n",
              "      <th>71</th>\n",
              "      <td>16</td>\n",
              "      <td>2</td>\n",
              "      <td>3</td>\n",
              "      <td>1</td>\n",
              "      <td>47</td>\n",
              "      <td>0</td>\n",
              "      <td>18</td>\n",
              "    </tr>\n",
              "    <tr>\n",
              "      <th>72</th>\n",
              "      <td>16</td>\n",
              "      <td>7</td>\n",
              "      <td>3</td>\n",
              "      <td>1</td>\n",
              "      <td>0</td>\n",
              "      <td>1</td>\n",
              "      <td>19</td>\n",
              "    </tr>\n",
              "    <tr>\n",
              "      <th>73</th>\n",
              "      <td>46</td>\n",
              "      <td>7</td>\n",
              "      <td>3</td>\n",
              "      <td>1</td>\n",
              "      <td>12</td>\n",
              "      <td>1</td>\n",
              "      <td>33</td>\n",
              "    </tr>\n",
              "    <tr>\n",
              "      <th>74</th>\n",
              "      <td>50</td>\n",
              "      <td>1</td>\n",
              "      <td>4</td>\n",
              "      <td>2</td>\n",
              "      <td>26</td>\n",
              "      <td>1</td>\n",
              "      <td>17</td>\n",
              "    </tr>\n",
              "  </tbody>\n",
              "</table>\n",
              "<p>75 rows × 7 columns</p>\n",
              "</div>\n",
              "    <div class=\"colab-df-buttons\">\n",
              "\n",
              "  <div class=\"colab-df-container\">\n",
              "    <button class=\"colab-df-convert\" onclick=\"convertToInteractive('df-e4bcfa49-496f-45a1-a76d-6f42aee9b0b8')\"\n",
              "            title=\"Convert this dataframe to an interactive table.\"\n",
              "            style=\"display:none;\">\n",
              "\n",
              "  <svg xmlns=\"http://www.w3.org/2000/svg\" height=\"24px\" viewBox=\"0 -960 960 960\">\n",
              "    <path d=\"M120-120v-720h720v720H120Zm60-500h600v-160H180v160Zm220 220h160v-160H400v160Zm0 220h160v-160H400v160ZM180-400h160v-160H180v160Zm440 0h160v-160H620v160ZM180-180h160v-160H180v160Zm440 0h160v-160H620v160Z\"/>\n",
              "  </svg>\n",
              "    </button>\n",
              "\n",
              "  <style>\n",
              "    .colab-df-container {\n",
              "      display:flex;\n",
              "      gap: 12px;\n",
              "    }\n",
              "\n",
              "    .colab-df-convert {\n",
              "      background-color: #E8F0FE;\n",
              "      border: none;\n",
              "      border-radius: 50%;\n",
              "      cursor: pointer;\n",
              "      display: none;\n",
              "      fill: #1967D2;\n",
              "      height: 32px;\n",
              "      padding: 0 0 0 0;\n",
              "      width: 32px;\n",
              "    }\n",
              "\n",
              "    .colab-df-convert:hover {\n",
              "      background-color: #E2EBFA;\n",
              "      box-shadow: 0px 1px 2px rgba(60, 64, 67, 0.3), 0px 1px 3px 1px rgba(60, 64, 67, 0.15);\n",
              "      fill: #174EA6;\n",
              "    }\n",
              "\n",
              "    .colab-df-buttons div {\n",
              "      margin-bottom: 4px;\n",
              "    }\n",
              "\n",
              "    [theme=dark] .colab-df-convert {\n",
              "      background-color: #3B4455;\n",
              "      fill: #D2E3FC;\n",
              "    }\n",
              "\n",
              "    [theme=dark] .colab-df-convert:hover {\n",
              "      background-color: #434B5C;\n",
              "      box-shadow: 0px 1px 3px 1px rgba(0, 0, 0, 0.15);\n",
              "      filter: drop-shadow(0px 1px 2px rgba(0, 0, 0, 0.3));\n",
              "      fill: #FFFFFF;\n",
              "    }\n",
              "  </style>\n",
              "\n",
              "    <script>\n",
              "      const buttonEl =\n",
              "        document.querySelector('#df-e4bcfa49-496f-45a1-a76d-6f42aee9b0b8 button.colab-df-convert');\n",
              "      buttonEl.style.display =\n",
              "        google.colab.kernel.accessAllowed ? 'block' : 'none';\n",
              "\n",
              "      async function convertToInteractive(key) {\n",
              "        const element = document.querySelector('#df-e4bcfa49-496f-45a1-a76d-6f42aee9b0b8');\n",
              "        const dataTable =\n",
              "          await google.colab.kernel.invokeFunction('convertToInteractive',\n",
              "                                                    [key], {});\n",
              "        if (!dataTable) return;\n",
              "\n",
              "        const docLinkHtml = 'Like what you see? Visit the ' +\n",
              "          '<a target=\"_blank\" href=https://colab.research.google.com/notebooks/data_table.ipynb>data table notebook</a>'\n",
              "          + ' to learn more about interactive tables.';\n",
              "        element.innerHTML = '';\n",
              "        dataTable['output_type'] = 'display_data';\n",
              "        await google.colab.output.renderOutput(dataTable, element);\n",
              "        const docLink = document.createElement('div');\n",
              "        docLink.innerHTML = docLinkHtml;\n",
              "        element.appendChild(docLink);\n",
              "      }\n",
              "    </script>\n",
              "  </div>\n",
              "\n",
              "\n",
              "<div id=\"df-d0d5867f-59e5-43b7-8152-7d0b19479d42\">\n",
              "  <button class=\"colab-df-quickchart\" onclick=\"quickchart('df-d0d5867f-59e5-43b7-8152-7d0b19479d42')\"\n",
              "            title=\"Suggest charts.\"\n",
              "            style=\"display:none;\">\n",
              "\n",
              "<svg xmlns=\"http://www.w3.org/2000/svg\" height=\"24px\"viewBox=\"0 0 24 24\"\n",
              "     width=\"24px\">\n",
              "    <g>\n",
              "        <path d=\"M19 3H5c-1.1 0-2 .9-2 2v14c0 1.1.9 2 2 2h14c1.1 0 2-.9 2-2V5c0-1.1-.9-2-2-2zM9 17H7v-7h2v7zm4 0h-2V7h2v10zm4 0h-2v-4h2v4z\"/>\n",
              "    </g>\n",
              "</svg>\n",
              "  </button>\n",
              "\n",
              "<style>\n",
              "  .colab-df-quickchart {\n",
              "    background-color: #E8F0FE;\n",
              "    border: none;\n",
              "    border-radius: 50%;\n",
              "    cursor: pointer;\n",
              "    display: none;\n",
              "    fill: #1967D2;\n",
              "    height: 32px;\n",
              "    padding: 0 0 0 0;\n",
              "    width: 32px;\n",
              "  }\n",
              "\n",
              "  .colab-df-quickchart:hover {\n",
              "    background-color: #E2EBFA;\n",
              "    box-shadow: 0px 1px 2px rgba(60, 64, 67, 0.3), 0px 1px 3px 1px rgba(60, 64, 67, 0.15);\n",
              "    fill: #174EA6;\n",
              "  }\n",
              "\n",
              "  [theme=dark] .colab-df-quickchart {\n",
              "    background-color: #3B4455;\n",
              "    fill: #D2E3FC;\n",
              "  }\n",
              "\n",
              "  [theme=dark] .colab-df-quickchart:hover {\n",
              "    background-color: #434B5C;\n",
              "    box-shadow: 0px 1px 3px 1px rgba(0, 0, 0, 0.15);\n",
              "    filter: drop-shadow(0px 1px 2px rgba(0, 0, 0, 0.3));\n",
              "    fill: #FFFFFF;\n",
              "  }\n",
              "</style>\n",
              "\n",
              "  <script>\n",
              "    async function quickchart(key) {\n",
              "      const charts = await google.colab.kernel.invokeFunction(\n",
              "          'suggestCharts', [key], {});\n",
              "    }\n",
              "    (() => {\n",
              "      let quickchartButtonEl =\n",
              "        document.querySelector('#df-d0d5867f-59e5-43b7-8152-7d0b19479d42 button');\n",
              "      quickchartButtonEl.style.display =\n",
              "        google.colab.kernel.accessAllowed ? 'block' : 'none';\n",
              "    })();\n",
              "  </script>\n",
              "</div>\n",
              "    </div>\n",
              "  </div>\n"
            ]
          },
          "metadata": {},
          "execution_count": 69
        }
      ]
    },
    {
      "cell_type": "code",
      "source": [
        "y=df.iloc[:,-1]\n",
        "y"
      ],
      "metadata": {
        "colab": {
          "base_uri": "https://localhost:8080/"
        },
        "id": "G8_ufbLG7-s8",
        "outputId": "8bbd253e-6a62-4e87-f103-3dfce8a2bb65"
      },
      "execution_count": 70,
      "outputs": [
        {
          "output_type": "execute_result",
          "data": {
            "text/plain": [
              "0     4\n",
              "1     4\n",
              "2     4\n",
              "3     4\n",
              "4     4\n",
              "     ..\n",
              "70    4\n",
              "71    4\n",
              "72    4\n",
              "73    4\n",
              "74    0\n",
              "Name: Result, Length: 75, dtype: int64"
            ]
          },
          "metadata": {},
          "execution_count": 70
        }
      ]
    },
    {
      "cell_type": "code",
      "source": [
        "mns=MinMaxScaler()\n",
        "X_sc=mns.fit_transform(X)\n",
        "X_sc"
      ],
      "metadata": {
        "colab": {
          "base_uri": "https://localhost:8080/"
        },
        "id": "W4cGYA2u8ISb",
        "outputId": "8f7e47c6-abeb-4a80-cfd3-e25612d8d482"
      },
      "execution_count": 71,
      "outputs": [
        {
          "output_type": "execute_result",
          "data": {
            "text/plain": [
              "array([[0.1754386 , 0.77777778, 0.5       , 0.33333333, 0.14893617,\n",
              "        0.5       , 0.79452055],\n",
              "       [0.03508772, 0.22222222, 0.25      , 0.33333333, 0.78723404,\n",
              "        0.        , 0.30136986],\n",
              "       [0.38596491, 0.11111111, 0.25      , 0.33333333, 0.04255319,\n",
              "        0.5       , 0.67123288],\n",
              "       [0.12280702, 0.44444444, 0.25      , 0.        , 0.57446809,\n",
              "        0.5       , 0.93150685],\n",
              "       [0.        , 0.22222222, 0.5       , 0.        , 0.78723404,\n",
              "        0.        , 0.63013699],\n",
              "       [0.1754386 , 0.33333333, 0.5       , 0.        , 0.82978723,\n",
              "        0.        , 0.52054795],\n",
              "       [0.26315789, 0.33333333, 0.5       , 0.33333333, 0.19148936,\n",
              "        0.5       , 0.56164384],\n",
              "       [0.36842105, 0.88888889, 0.5       , 0.33333333, 0.04255319,\n",
              "        0.5       , 0.02739726],\n",
              "       [0.35087719, 0.11111111, 1.        , 0.33333333, 0.06382979,\n",
              "        0.        , 0.80821918],\n",
              "       [0.57894737, 0.77777778, 0.5       , 0.33333333, 0.10638298,\n",
              "        1.        , 0.91780822],\n",
              "       [0.19298246, 0.77777778, 0.25      , 0.        , 0.78723404,\n",
              "        1.        , 0.35616438],\n",
              "       [0.85964912, 0.55555556, 0.25      , 0.33333333, 0.78723404,\n",
              "        1.        , 0.61643836],\n",
              "       [0.15789474, 0.77777778, 0.25      , 0.        , 0.44680851,\n",
              "        0.        , 0.68493151],\n",
              "       [0.52631579, 0.77777778, 0.25      , 0.33333333, 0.68085106,\n",
              "        0.        , 1.        ],\n",
              "       [0.05263158, 0.44444444, 0.75      , 0.33333333, 0.42553191,\n",
              "        0.5       , 0.97260274],\n",
              "       [0.05263158, 0.33333333, 0.75      , 0.33333333, 0.93617021,\n",
              "        0.5       , 0.32876712],\n",
              "       [0.1754386 , 0.11111111, 0.75      , 0.33333333, 0.40425532,\n",
              "        0.5       , 0.7260274 ],\n",
              "       [0.01754386, 0.88888889, 0.25      , 0.        , 0.65957447,\n",
              "        0.        , 0.08219178],\n",
              "       [0.31578947, 1.        , 0.25      , 0.33333333, 0.29787234,\n",
              "        0.        , 0.82191781],\n",
              "       [0.        , 0.11111111, 0.25      , 0.33333333, 0.76595745,\n",
              "        0.5       , 0.50684932],\n",
              "       [0.33333333, 0.11111111, 0.25      , 0.33333333, 0.91489362,\n",
              "        0.5       , 0.95890411],\n",
              "       [0.40350877, 0.66666667, 0.5       , 0.        , 0.95744681,\n",
              "        0.        , 0.60273973],\n",
              "       [0.49122807, 0.44444444, 0.25      , 0.33333333, 0.5106383 ,\n",
              "        0.        , 0.64383562],\n",
              "       [0.14035088, 0.44444444, 0.5       , 1.        , 0.08510638,\n",
              "        0.        , 0.39726027],\n",
              "       [0.59649123, 0.22222222, 0.25      , 0.33333333, 0.36170213,\n",
              "        0.        , 0.87671233],\n",
              "       [0.50877193, 0.88888889, 0.25      , 0.        , 0.27659574,\n",
              "        0.5       , 0.57534247],\n",
              "       [0.64912281, 0.77777778, 0.5       , 0.33333333, 0.34042553,\n",
              "        0.5       , 0.47945205],\n",
              "       [0.31578947, 0.11111111, 0.5       , 0.33333333, 0.06382979,\n",
              "        0.        , 0.20547945],\n",
              "       [0.68421053, 0.11111111, 0.5       , 1.        , 0.06382979,\n",
              "        0.        , 0.20547945],\n",
              "       [0.84210526, 0.11111111, 0.5       , 0.33333333, 0.53191489,\n",
              "        0.        , 0.8630137 ],\n",
              "       [0.70175439, 0.11111111, 0.5       , 0.33333333, 0.87234043,\n",
              "        0.        , 0.10958904],\n",
              "       [0.1754386 , 0.55555556, 0.25      , 0.        , 0.06382979,\n",
              "        1.        , 0.4109589 ],\n",
              "       [0.05263158, 0.77777778, 0.5       , 0.33333333, 0.21276596,\n",
              "        0.        , 0.31506849],\n",
              "       [0.61403509, 0.66666667, 0.25      , 0.        , 0.40425532,\n",
              "        0.5       , 0.75342466],\n",
              "       [0.36842105, 0.11111111, 0.25      , 0.        , 0.53191489,\n",
              "        0.        , 0.53424658],\n",
              "       [0.15789474, 0.11111111, 0.25      , 0.33333333, 0.4893617 ,\n",
              "        0.        , 0.65753425],\n",
              "       [0.89473684, 0.88888889, 0.5       , 0.        , 0.80851064,\n",
              "        0.        , 0.69863014],\n",
              "       [0.92982456, 0.44444444, 0.5       , 0.        , 0.31914894,\n",
              "        0.5       , 0.17808219],\n",
              "       [0.75438596, 0.44444444, 0.25      , 0.33333333, 0.63829787,\n",
              "        0.5       , 0.78082192],\n",
              "       [0.8245614 , 0.33333333, 0.5       , 0.        , 0.0212766 ,\n",
              "        0.5       , 0.54794521],\n",
              "       [0.96491228, 0.33333333, 0.5       , 0.33333333, 0.9787234 ,\n",
              "        0.5       , 0.15068493],\n",
              "       [0.45614035, 0.33333333, 0.25      , 0.33333333, 0.46808511,\n",
              "        0.5       , 0.42465753],\n",
              "       [0.9122807 , 0.22222222, 0.5       , 0.        , 0.70212766,\n",
              "        0.5       , 0.21917808],\n",
              "       [0.22807018, 0.88888889, 0.25      , 0.33333333, 0.72340426,\n",
              "        0.        , 0.12328767],\n",
              "       [0.07017544, 0.77777778, 0.5       , 0.66666667, 0.21276596,\n",
              "        0.        , 0.89041096],\n",
              "       [0.56140351, 0.77777778, 0.25      , 0.        , 0.68085106,\n",
              "        0.        , 0.98630137],\n",
              "       [0.21052632, 0.77777778, 0.25      , 0.33333333, 0.68085106,\n",
              "        0.        , 0.05479452],\n",
              "       [0.43859649, 0.44444444, 0.25      , 0.        , 0.9787234 ,\n",
              "        0.5       , 0.76712329],\n",
              "       [0.28070175, 0.44444444, 0.25      , 0.        , 0.23404255,\n",
              "        0.5       , 0.94520548],\n",
              "       [0.10526316, 0.77777778, 0.5       , 0.66666667, 0.14893617,\n",
              "        0.5       , 0.49315068],\n",
              "       [0.94736842, 0.77777778, 0.5       , 0.33333333, 0.93617021,\n",
              "        0.5       , 0.83561644],\n",
              "       [0.98245614, 0.77777778, 0.5       , 0.        , 0.19148936,\n",
              "        0.5       , 0.04109589],\n",
              "       [0.73684211, 0.66666667, 0.5       , 0.33333333, 0.85106383,\n",
              "        0.        , 0.34246575],\n",
              "       [0.24561404, 0.66666667, 0.25      , 0.33333333, 0.38297872,\n",
              "        0.        , 0.01369863],\n",
              "       [0.78947368, 0.66666667, 0.25      , 0.        , 0.59574468,\n",
              "        0.        , 0.1369863 ],\n",
              "       [0.54385965, 0.66666667, 0.25      , 0.33333333, 0.85106383,\n",
              "        0.        , 0.46575342],\n",
              "       [0.71929825, 0.33333333, 0.5       , 0.33333333, 0.17021277,\n",
              "        0.        , 0.        ],\n",
              "       [0.05263158, 0.33333333, 0.5       , 0.66666667, 0.89361702,\n",
              "        0.        , 0.5890411 ],\n",
              "       [0.63157895, 0.88888889, 0.5       , 0.        , 0.74468085,\n",
              "        0.5       , 0.06849315],\n",
              "       [0.66666667, 0.88888889, 0.25      , 0.33333333, 0.        ,\n",
              "        0.5       , 0.71232877],\n",
              "       [0.77192982, 0.88888889, 0.25      , 0.        , 0.0212766 ,\n",
              "        0.5       , 0.84931507],\n",
              "       [0.1754386 , 0.88888889, 0.25      , 0.33333333, 0.46808511,\n",
              "        0.5       , 0.90410959],\n",
              "       [0.49122807, 0.11111111, 0.5       , 0.33333333, 0.61702128,\n",
              "        0.        , 0.38356164],\n",
              "       [0.0877193 , 0.11111111, 0.25      , 0.33333333, 0.06382979,\n",
              "        0.        , 0.43835616],\n",
              "       [0.35087719, 0.11111111, 0.25      , 0.        , 0.93617021,\n",
              "        0.5       , 0.09589041],\n",
              "       [0.49122807, 0.11111111, 0.25      , 0.33333333, 0.34042553,\n",
              "        0.5       , 0.16438356],\n",
              "       [0.42105263, 0.88888889, 0.25      , 0.        , 0.65957447,\n",
              "        0.        , 0.28767123],\n",
              "       [0.29824561, 0.88888889, 0.25      , 0.33333333, 0.65957447,\n",
              "        0.        , 0.36986301],\n",
              "       [1.        , 0.66666667, 0.5       , 0.        , 0.46808511,\n",
              "        0.5       , 0.2739726 ],\n",
              "       [0.59649123, 0.22222222, 0.5       , 0.33333333, 0.14893617,\n",
              "        0.5       , 0.73972603],\n",
              "       [0.47368421, 0.        , 0.        , 0.        , 0.12765957,\n",
              "        1.        , 0.19178082],\n",
              "       [0.28070175, 0.22222222, 0.25      , 0.        , 1.        ,\n",
              "        0.        , 0.24657534],\n",
              "       [0.28070175, 0.77777778, 0.25      , 0.        , 0.        ,\n",
              "        0.5       , 0.26027397],\n",
              "       [0.80701754, 0.77777778, 0.25      , 0.        , 0.25531915,\n",
              "        0.5       , 0.45205479],\n",
              "       [0.87719298, 0.11111111, 0.5       , 0.33333333, 0.55319149,\n",
              "        0.5       , 0.23287671]])"
            ]
          },
          "metadata": {},
          "execution_count": 71
        }
      ]
    },
    {
      "cell_type": "code",
      "source": [
        "X_train,X_test,y_train,y_test=train_test_split(X_sc,y,test_size=0.3,random_state=3)"
      ],
      "metadata": {
        "id": "8QCm4xJk9lgh"
      },
      "execution_count": 72,
      "outputs": []
    },
    {
      "cell_type": "markdown",
      "source": [
        "# Applying Machine Learning Models"
      ],
      "metadata": {
        "id": "BfFy6ziCDTFq"
      }
    },
    {
      "cell_type": "code",
      "source": [
        "knn=KNeighborsClassifier()\n",
        "nb=GaussianNB()\n",
        "svc=SVC()\n",
        "de=DecisionTreeClassifier()\n",
        "\n",
        "lst=[knn,nb,svc,de]\n",
        "\n",
        "for i in lst:\n",
        "  print('_'*30,i,'_'*30)\n",
        "  i.fit(X_train,y_train)\n",
        "  y_pred=i.predict(X_test)\n",
        "  print('Accuracy score:',accuracy_score(y_test,y_pred)*100)\n",
        "  print(classification_report(y_test,y_pred))\n",
        "  print(ConfusionMatrixDisplay.from_predictions(y_test,y_pred))"
      ],
      "metadata": {
        "colab": {
          "base_uri": "https://localhost:8080/",
          "height": 1000
        },
        "id": "SV_Titln-mAL",
        "outputId": "ac2955d1-30d1-4a85-9506-9e692f0c8584"
      },
      "execution_count": 76,
      "outputs": [
        {
          "output_type": "stream",
          "name": "stdout",
          "text": [
            "______________________________ KNeighborsClassifier() ______________________________\n",
            "Accuracy score: 69.56521739130434\n",
            "              precision    recall  f1-score   support\n",
            "\n",
            "           0       0.00      0.00      0.00         1\n",
            "           1       0.20      0.25      0.22         4\n",
            "           4       0.88      0.83      0.86        18\n",
            "\n",
            "    accuracy                           0.70        23\n",
            "   macro avg       0.36      0.36      0.36        23\n",
            "weighted avg       0.73      0.70      0.71        23\n",
            "\n",
            "<sklearn.metrics._plot.confusion_matrix.ConfusionMatrixDisplay object at 0x7e6324f12bf0>\n",
            "______________________________ GaussianNB() ______________________________\n",
            "Accuracy score: 73.91304347826086\n",
            "              precision    recall  f1-score   support\n",
            "\n",
            "           0       0.00      0.00      0.00         1\n",
            "           1       0.00      0.00      0.00         4\n",
            "           4       0.85      0.94      0.89        18\n",
            "\n",
            "    accuracy                           0.74        23\n",
            "   macro avg       0.28      0.31      0.30        23\n",
            "weighted avg       0.67      0.74      0.70        23\n",
            "\n",
            "<sklearn.metrics._plot.confusion_matrix.ConfusionMatrixDisplay object at 0x7e6324f12bf0>\n",
            "______________________________ SVC() ______________________________\n",
            "Accuracy score: 78.26086956521739\n",
            "              precision    recall  f1-score   support\n",
            "\n",
            "           0       0.00      0.00      0.00         1\n",
            "           1       0.00      0.00      0.00         4\n",
            "           4       0.78      1.00      0.88        18\n",
            "\n",
            "    accuracy                           0.78        23\n",
            "   macro avg       0.26      0.33      0.29        23\n",
            "weighted avg       0.61      0.78      0.69        23\n",
            "\n",
            "<sklearn.metrics._plot.confusion_matrix.ConfusionMatrixDisplay object at 0x7e6324f12bf0>\n",
            "______________________________ DecisionTreeClassifier() ______________________________\n",
            "Accuracy score: 43.47826086956522\n",
            "              precision    recall  f1-score   support\n",
            "\n",
            "           0       0.00      0.00      0.00         1\n",
            "           1       0.17      0.25      0.20         4\n",
            "           2       0.00      0.00      0.00         0\n",
            "           4       0.75      0.50      0.60        18\n",
            "           5       0.00      0.00      0.00         0\n",
            "\n",
            "    accuracy                           0.43        23\n",
            "   macro avg       0.18      0.15      0.16        23\n",
            "weighted avg       0.62      0.43      0.50        23\n",
            "\n",
            "<sklearn.metrics._plot.confusion_matrix.ConfusionMatrixDisplay object at 0x7e632183d570>\n"
          ]
        },
        {
          "output_type": "display_data",
          "data": {
            "text/plain": [
              "<Figure size 640x480 with 2 Axes>"
            ],
            "image/png": "[encoded data removed]"
          },
          "metadata": {}
        },
        {
          "output_type": "display_data",
          "data": {
            "text/plain": [
              "<Figure size 640x480 with 2 Axes>"
            ],
            "image/png": "[encoded data removed]"
          },
          "metadata": {}
        },
        {
          "output_type": "display_data",
          "data": {
            "text/plain": [
              "<Figure size 640x480 with 2 Axes>"
            ],
            "image/png": "[encoded data removed]"
          },
          "metadata": {}
        },
        {
          "output_type": "display_data",
          "data": {
            "text/plain": [
              "<Figure size 640x480 with 2 Axes>"
            ],
            "image/png": "[encoded data removed]"
          },
          "metadata": {}
        }
      ]
    },
    {
      "cell_type": "markdown",
      "source": [
        "# Accuracy Score Comparison"
      ],
      "metadata": {
        "id": "NEPVbOeQDr5B"
      }
    },
    {
      "cell_type": "code",
      "source": [
        "print('knn=0','nb=1','svc=2','de=3')\n",
        "a=[0,1,2,3]\n",
        "b=[69.5,73.9,78.2,43.4]\n",
        "plt.bar(a,b,color='brown')\n",
        "plt.xlabel('Model')\n",
        "plt.ylabel('Accuracy score')\n",
        "plt.show()"
      ],
      "metadata": {
        "colab": {
          "base_uri": "https://localhost:8080/",
          "height": 467
        },
        "id": "htJn7E55ALg0",
        "outputId": "147d0fd1-f1b7-4881-8902-e5a6a70cd2db"
      },
      "execution_count": 79,
      "outputs": [
        {
          "output_type": "stream",
          "name": "stdout",
          "text": [
            "knn=0 nb=1 svc=2 de=3\n"
          ]
        },
        {
          "output_type": "display_data",
          "data": {
            "text/plain": [
              "<Figure size 640x480 with 1 Axes>"
            ],
            "image/png": "[encoded data removed]"
          },
          "metadata": {}
        }
      ]
    },
    {
      "cell_type": "code",
      "source": [],
      "metadata": {
        "id": "tp3xpr_DGsQH"
      },
      "execution_count": null,
      "outputs": []
    }
  ]
}